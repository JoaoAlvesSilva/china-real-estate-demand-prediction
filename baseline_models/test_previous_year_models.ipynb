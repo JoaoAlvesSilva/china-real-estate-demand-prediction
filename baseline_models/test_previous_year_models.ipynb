{
 "cells": [
  {
   "cell_type": "code",
   "execution_count": 3,
   "id": "f1547866",
   "metadata": {},
   "outputs": [],
   "source": [
    "import pandas as pd\n",
    "import os\n",
    "from pathlib import Path\n",
    "\n",
    "PROJECT_ROOT = Path(os.environ[\"PROJECT_ROOT\"])\n",
    "from auxiliary.static_data import *\n",
    "from auxiliary.auxiliary_funcs import *\n",
    "from auxiliary.impute_missing_values import df_new_house_transactions\n",
    "\n",
    "df_test = pd.read_csv(\"test.csv\")\n",
    "df_sample_submission = pd.read_csv(\"sample_submission.csv\")"
   ]
  },
  {
   "cell_type": "code",
   "execution_count": 4,
   "id": "53e68abe",
   "metadata": {},
   "outputs": [
    {
     "name": "stdout",
     "output_type": "stream",
     "text": [
      "2020: y_true shape = (1152,), y_pred shape = (1152,)\n",
      "2021: y_true shape = (1152,), y_pred shape = (1152,)\n",
      "2022: y_true shape = (1152,), y_pred shape = (1152,)\n",
      "2023: y_true shape = (1152,), y_pred shape = (1152,)\n"
     ]
    }
   ],
   "source": [
    "# Add sector_num column for sorting\n",
    "df_new_house_transactions[\"sector_num\"] = (\n",
    "    df_new_house_transactions[\"sector\"].str.extract(\"(\\d+)\").astype(int)\n",
    ")\n",
    "\n",
    "# Create y_pred and y_true arrays for each time period\n",
    "time_periods = [\n",
    "    (\"2020\", 2019, 2020),\n",
    "    (\"2021\", 2020, 2021),\n",
    "    (\"2022\", 2021, 2022),\n",
    "    (\"2023\", 2022, 2023),\n",
    "]\n",
    "\n",
    "for period_name, pred_yr, true_yr in time_periods:\n",
    "    # Get true values (current year: Aug to July)\n",
    "    mask_true = (\n",
    "        (df_new_house_transactions[\"yr\"] == true_yr)\n",
    "        & (df_new_house_transactions[\"m\"] >= 8)\n",
    "    ) | (\n",
    "        (df_new_house_transactions[\"yr\"] == true_yr + 1)\n",
    "        & (df_new_house_transactions[\"m\"] <= 7)\n",
    "    )\n",
    "\n",
    "    # Get prediction values (previous year: Aug to July)\n",
    "    mask_pred = (\n",
    "        (df_new_house_transactions[\"yr\"] == pred_yr)\n",
    "        & (df_new_house_transactions[\"m\"] >= 8)\n",
    "    ) | (\n",
    "        (df_new_house_transactions[\"yr\"] == pred_yr + 1)\n",
    "        & (df_new_house_transactions[\"m\"] <= 7)\n",
    "    )\n",
    "\n",
    "    # Create arrays sorted by sector\n",
    "    df_true = df_new_house_transactions[mask_true].sort_values(\"sector_num\")\n",
    "    df_pred = df_new_house_transactions[mask_pred].sort_values(\"sector_num\")\n",
    "\n",
    "    # Extract values\n",
    "    exec(f\"y_true_{period_name} = df_true['new_house_transaction_amount'].values\")\n",
    "    exec(f\"y_pred_{period_name} = df_pred['new_house_transaction_amount'].values\")\n",
    "\n",
    "    print(\n",
    "        f\"{period_name}: y_true shape = {eval(f'y_true_{period_name}').shape}, y_pred shape = {eval(f'y_pred_{period_name}').shape}\"\n",
    "    )"
   ]
  },
  {
   "cell_type": "code",
   "execution_count": 5,
   "id": "2609695f",
   "metadata": {},
   "outputs": [
    {
     "name": "stdout",
     "output_type": "stream",
     "text": [
      "Year: 2020\n"
     ]
    },
    {
     "name": "stdout",
     "output_type": "stream",
     "text": [
      "Score: 0.3652385278500956\n",
      "Year: 2021\n",
      "Score: 0.00016448990475432867\n",
      "Year: 2022\n",
      "Score: 0.3394445787876501\n",
      "Year: 2023\n",
      "Score: 0.4669963456680643\n"
     ]
    }
   ],
   "source": [
    "# 1152 simulations\n",
    "\n",
    "y_preds = [y_pred_2020, y_pred_2021, y_pred_2022, y_pred_2023]\n",
    "y_trues = [y_true_2020, y_true_2021, y_true_2022, y_true_2023]\n",
    "years_of_prediction = [2020, 2021, 2022, 2023]\n",
    "\n",
    "for y_pred, y_true, year in zip(y_preds, y_trues, years_of_prediction):\n",
    "    print(f\"Year: {year}\")\n",
    "    print(f\"Score: {random_half_score(y_pred, y_true,  n_repeats= 1152)}\")"
   ]
  },
  {
   "cell_type": "code",
   "execution_count": 6,
   "id": "cb35be97",
   "metadata": {},
   "outputs": [
    {
     "name": "stdout",
     "output_type": "stream",
     "text": [
      "Year: 2020\n",
      "Score: 0.3652561221081446\n",
      "Year: 2021\n",
      "Score: 1.621946705041634e-05\n",
      "Year: 2022\n",
      "Score: 0.34040245279978504\n",
      "Year: 2023\n",
      "Score: 0.46700770077718834\n"
     ]
    }
   ],
   "source": [
    "# 1152*10 simulations\n",
    "\n",
    "y_preds = [y_pred_2020, y_pred_2021, y_pred_2022, y_pred_2023]\n",
    "y_trues = [y_true_2020, y_true_2021, y_true_2022, y_true_2023]\n",
    "years_of_prediction = [2020, 2021, 2022, 2023]\n",
    "\n",
    "for y_pred, y_true, year in zip(y_preds, y_trues, years_of_prediction):\n",
    "    print(f\"Year: {year}\")\n",
    "    print(f\"Score: {random_half_score(y_pred, y_true,  n_repeats= 1152*10)}\")"
   ]
  },
  {
   "cell_type": "markdown",
   "id": "5ffb24db",
   "metadata": {},
   "source": [
    "So, it looks like it converges well."
   ]
  }
 ],
 "metadata": {
  "kernelspec": {
   "display_name": "base",
   "language": "python",
   "name": "python3"
  },
  "language_info": {
   "codemirror_mode": {
    "name": "ipython",
    "version": 3
   },
   "file_extension": ".py",
   "mimetype": "text/x-python",
   "name": "python",
   "nbconvert_exporter": "python",
   "pygments_lexer": "ipython3",
   "version": "3.11.5"
  }
 },
 "nbformat": 4,
 "nbformat_minor": 5
}
