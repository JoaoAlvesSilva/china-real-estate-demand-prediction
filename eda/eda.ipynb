{
 "cells": [
  {
   "cell_type": "code",
   "execution_count": 3,
   "id": "99459b1d",
   "metadata": {},
   "outputs": [],
   "source": [
    "import pandas as pd\n",
    "import sklearn\n",
    "import matplotlib.pyplot as plt\n",
    "import os\n",
    "from pathlib import Path\n",
    "\n",
    "PROJECT_ROOT = Path(os.environ[\"PROJECT_ROOT\"])\n",
    "from auxiliary.static_data import *\n",
    "from auxiliary.auxiliary_funcs import *\n",
    "\n",
    "df_test = pd.read_csv(\"test.csv\")\n",
    "df_sample_submission = pd.read_csv(\"sample_submission.csv\")\n",
    "df_city_indexes = pd.read_csv(os.path.join(PROJECT_ROOT, \"train\", \"city_indexes.csv\"))\n",
    "df_city_search_index = pd.read_csv(\n",
    "    os.path.join(PROJECT_ROOT, \"train\", \"city_search_index.csv\")\n",
    ")\n",
    "df_land_transactions_nearby_sectors = pd.read_csv(\n",
    "    os.path.join(PROJECT_ROOT, \"train\", \"land_transactions_nearby_sectors.csv\")\n",
    ")\n",
    "df_land_transactions = pd.read_csv(\n",
    "    os.path.join(PROJECT_ROOT, \"train\", \"land_transactions.csv\")\n",
    ")\n",
    "df_new_house_transactions_nearby_sectors = pd.read_csv(\n",
    "    os.path.join(PROJECT_ROOT, \"train\", \"new_house_transactions_nearby_sectors.csv\")\n",
    ")\n",
    "df_new_house_transactions = pd.read_csv(\n",
    "    os.path.join(PROJECT_ROOT, \"train\", \"new_house_transactions.csv\")\n",
    ")\n",
    "df_pre_owned_house_transactions_nearby_sectors = pd.read_csv(\n",
    "    os.path.join(\n",
    "        PROJECT_ROOT, \"train\", \"pre_owned_house_transactions_nearby_sectors.csv\"\n",
    "    )\n",
    ")\n",
    "df_pre_owned_house_transactions = pd.read_csv(\n",
    "    os.path.join(PROJECT_ROOT, \"train\", \"pre_owned_house_transactions.csv\")\n",
    ")\n",
    "df_sector_POI = pd.read_csv(os.path.join(PROJECT_ROOT, \"train\", \"sector_POI.csv\"))"
   ]
  },
  {
   "cell_type": "markdown",
   "id": "0ffad9d9",
   "metadata": {},
   "source": [
    "# Study test set"
   ]
  },
  {
   "cell_type": "code",
   "execution_count": 4,
   "id": "0be2133c",
   "metadata": {},
   "outputs": [
    {
     "data": {
      "text/html": [
       "<div>\n",
       "<style scoped>\n",
       "    .dataframe tbody tr th:only-of-type {\n",
       "        vertical-align: middle;\n",
       "    }\n",
       "\n",
       "    .dataframe tbody tr th {\n",
       "        vertical-align: top;\n",
       "    }\n",
       "\n",
       "    .dataframe thead th {\n",
       "        text-align: right;\n",
       "    }\n",
       "</style>\n",
       "<table border=\"1\" class=\"dataframe\">\n",
       "  <thead>\n",
       "    <tr style=\"text-align: right;\">\n",
       "      <th></th>\n",
       "      <th>id</th>\n",
       "      <th>new_house_transaction_amount</th>\n",
       "    </tr>\n",
       "  </thead>\n",
       "  <tbody>\n",
       "    <tr>\n",
       "      <th>0</th>\n",
       "      <td>2024 Aug_sector 1</td>\n",
       "      <td>NaN</td>\n",
       "    </tr>\n",
       "    <tr>\n",
       "      <th>1</th>\n",
       "      <td>2024 Aug_sector 2</td>\n",
       "      <td>NaN</td>\n",
       "    </tr>\n",
       "    <tr>\n",
       "      <th>2</th>\n",
       "      <td>2024 Aug_sector 3</td>\n",
       "      <td>NaN</td>\n",
       "    </tr>\n",
       "    <tr>\n",
       "      <th>3</th>\n",
       "      <td>2024 Aug_sector 4</td>\n",
       "      <td>NaN</td>\n",
       "    </tr>\n",
       "    <tr>\n",
       "      <th>4</th>\n",
       "      <td>2024 Aug_sector 5</td>\n",
       "      <td>NaN</td>\n",
       "    </tr>\n",
       "    <tr>\n",
       "      <th>...</th>\n",
       "      <td>...</td>\n",
       "      <td>...</td>\n",
       "    </tr>\n",
       "    <tr>\n",
       "      <th>1147</th>\n",
       "      <td>2025 Jul_sector 92</td>\n",
       "      <td>NaN</td>\n",
       "    </tr>\n",
       "    <tr>\n",
       "      <th>1148</th>\n",
       "      <td>2025 Jul_sector 93</td>\n",
       "      <td>NaN</td>\n",
       "    </tr>\n",
       "    <tr>\n",
       "      <th>1149</th>\n",
       "      <td>2025 Jul_sector 94</td>\n",
       "      <td>NaN</td>\n",
       "    </tr>\n",
       "    <tr>\n",
       "      <th>1150</th>\n",
       "      <td>2025 Jul_sector 95</td>\n",
       "      <td>NaN</td>\n",
       "    </tr>\n",
       "    <tr>\n",
       "      <th>1151</th>\n",
       "      <td>2025 Jul_sector 96</td>\n",
       "      <td>NaN</td>\n",
       "    </tr>\n",
       "  </tbody>\n",
       "</table>\n",
       "<p>1152 rows × 2 columns</p>\n",
       "</div>"
      ],
      "text/plain": [
       "                      id  new_house_transaction_amount\n",
       "0      2024 Aug_sector 1                           NaN\n",
       "1      2024 Aug_sector 2                           NaN\n",
       "2      2024 Aug_sector 3                           NaN\n",
       "3      2024 Aug_sector 4                           NaN\n",
       "4      2024 Aug_sector 5                           NaN\n",
       "...                  ...                           ...\n",
       "1147  2025 Jul_sector 92                           NaN\n",
       "1148  2025 Jul_sector 93                           NaN\n",
       "1149  2025 Jul_sector 94                           NaN\n",
       "1150  2025 Jul_sector 95                           NaN\n",
       "1151  2025 Jul_sector 96                           NaN\n",
       "\n",
       "[1152 rows x 2 columns]"
      ]
     },
     "execution_count": 4,
     "metadata": {},
     "output_type": "execute_result"
    }
   ],
   "source": [
    "df_test"
   ]
  },
  {
   "cell_type": "markdown",
   "id": "a10316dc",
   "metadata": {},
   "source": [
    "# Study submission file"
   ]
  },
  {
   "cell_type": "code",
   "execution_count": 5,
   "id": "4df8cab7",
   "metadata": {},
   "outputs": [],
   "source": [
    "df_sample_submission_play = df_sample_submission.copy()\n",
    "\n",
    "df_sample_submission_play[\"yr\"] = df_sample_submission_play[\"id\"].apply(func_str_to_yr)\n",
    "df_sample_submission_play[\"month\"] = df_sample_submission_play[\"id\"].apply(\n",
    "    func_str_to_month\n",
    ")\n",
    "df_sample_submission_play[\"sector\"] = df_sample_submission_play[\"id\"].apply(\n",
    "    func_str_to_sector\n",
    ")"
   ]
  },
  {
   "cell_type": "markdown",
   "id": "95221548",
   "metadata": {},
   "source": [
    "### The conclusion is that the submission goes from Aug 2024 to Jul 2025. The sectors are from 1 to 96"
   ]
  },
  {
   "cell_type": "code",
   "execution_count": 6,
   "id": "d78617a0",
   "metadata": {},
   "outputs": [
    {
     "data": {
      "text/plain": [
       "yr    month\n",
       "2024  8        96\n",
       "      9        96\n",
       "      10       96\n",
       "      11       96\n",
       "      12       96\n",
       "2025  1        96\n",
       "      2        96\n",
       "      3        96\n",
       "      4        96\n",
       "      5        96\n",
       "      6        96\n",
       "      7        96\n",
       "Name: count, dtype: int64"
      ]
     },
     "execution_count": 6,
     "metadata": {},
     "output_type": "execute_result"
    }
   ],
   "source": [
    "df_sample_submission_play[[\"yr\", \"month\"]].value_counts()"
   ]
  },
  {
   "cell_type": "code",
   "execution_count": 4,
   "id": "bd8a3b1a",
   "metadata": {},
   "outputs": [
    {
     "data": {
      "text/plain": [
       "sector\n",
       "1     12\n",
       "2     12\n",
       "71    12\n",
       "70    12\n",
       "69    12\n",
       "      ..\n",
       "30    12\n",
       "29    12\n",
       "28    12\n",
       "27    12\n",
       "96    12\n",
       "Name: count, Length: 96, dtype: int64"
      ]
     },
     "execution_count": 4,
     "metadata": {},
     "output_type": "execute_result"
    }
   ],
   "source": [
    "df_sample_submission_play[\"sector\"].value_counts()"
   ]
  },
  {
   "cell_type": "code",
   "execution_count": 7,
   "id": "6feb2ade",
   "metadata": {},
   "outputs": [
    {
     "name": "stdout",
     "output_type": "stream",
     "text": [
      "1152\n",
      "1152\n"
     ]
    }
   ],
   "source": [
    "print(96 * 12)\n",
    "print(len(df_sample_submission_play))\n",
    "# The submission has 1152 rows, which is 96 sectors * 12 months"
   ]
  }
 ],
 "metadata": {
  "kernelspec": {
   "display_name": "base",
   "language": "python",
   "name": "python3"
  },
  "language_info": {
   "codemirror_mode": {
    "name": "ipython",
    "version": 3
   },
   "file_extension": ".py",
   "mimetype": "text/x-python",
   "name": "python",
   "nbconvert_exporter": "python",
   "pygments_lexer": "ipython3",
   "version": "3.11.5"
  }
 },
 "nbformat": 4,
 "nbformat_minor": 5
}
