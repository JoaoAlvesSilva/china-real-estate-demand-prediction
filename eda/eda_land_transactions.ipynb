{
 "cells": [
  {
   "cell_type": "code",
   "execution_count": 8,
   "id": "cdad653e",
   "metadata": {},
   "outputs": [],
   "source": [
    "import pandas as pd\n",
    "import os\n",
    "from pathlib import Path\n",
    "\n",
    "PROJECT_ROOT = Path(os.environ[\"PROJECT_ROOT\"])\n",
    "from auxiliary.static_data import *\n",
    "from auxiliary.auxiliary_funcs import *\n",
    "from auxiliary.impute_missing_values import df_new_house_transactions"
   ]
  },
  {
   "cell_type": "code",
   "execution_count": 9,
   "id": "664c916e",
   "metadata": {},
   "outputs": [],
   "source": [
    "train_folder = PROJECT_ROOT / \"train\"\n",
    "land_transactions_path = train_folder / \"land_transactions_imputed.csv\"\n",
    "land_transactions_nearby_sectors_path = (\n",
    "    train_folder / \"land_transactions_nearby_sectors_imputed.csv\"\n",
    ")\n",
    "\n",
    "df_land_transactions = pd.read_csv(land_transactions_path)\n",
    "df_land_transactions_nearby_sectors = pd.read_csv(land_transactions_nearby_sectors_path)"
   ]
  },
  {
   "cell_type": "code",
   "execution_count": 14,
   "id": "99c4ed1f",
   "metadata": {},
   "outputs": [],
   "source": [
    "df_land_transactions[\"transaction_amount_so_far\"] = (\n",
    "    df_land_transactions.groupby(\"sector_num\")[\"transaction_amount\"].cumsum()\n",
    ")"
   ]
  },
  {
   "cell_type": "code",
   "execution_count": 24,
   "id": "7a416207",
   "metadata": {},
   "outputs": [],
   "source": [
    "df_merged = pd.concat([df_new_house_transactions, df_land_transactions.drop(\n",
    "    columns=['sector_num', 'sector', 'yr', 'm', 'month'])], axis=1)"
   ]
  },
  {
   "cell_type": "code",
   "execution_count": 28,
   "id": "50a80e2a",
   "metadata": {},
   "outputs": [],
   "source": [
    "df_merged['transaction_amount_so_far_one_year_ago'] = df_merged['transaction_amount_so_far'].shift(96)"
   ]
  },
  {
   "cell_type": "code",
   "execution_count": 29,
   "id": "39a24518",
   "metadata": {},
   "outputs": [
    {
     "data": {
      "text/html": [
       "<div>\n",
       "<style scoped>\n",
       "    .dataframe tbody tr th:only-of-type {\n",
       "        vertical-align: middle;\n",
       "    }\n",
       "\n",
       "    .dataframe tbody tr th {\n",
       "        vertical-align: top;\n",
       "    }\n",
       "\n",
       "    .dataframe thead th {\n",
       "        text-align: right;\n",
       "    }\n",
       "</style>\n",
       "<table border=\"1\" class=\"dataframe\">\n",
       "  <thead>\n",
       "    <tr style=\"text-align: right;\">\n",
       "      <th></th>\n",
       "      <th>new_house_transaction_amount</th>\n",
       "      <th>transaction_amount_so_far</th>\n",
       "      <th>transaction_amount_so_far_one_year_ago</th>\n",
       "    </tr>\n",
       "  </thead>\n",
       "  <tbody>\n",
       "    <tr>\n",
       "      <th>new_house_transaction_amount</th>\n",
       "      <td>1.000000</td>\n",
       "      <td>0.378150</td>\n",
       "      <td>0.369573</td>\n",
       "    </tr>\n",
       "    <tr>\n",
       "      <th>transaction_amount_so_far</th>\n",
       "      <td>0.378150</td>\n",
       "      <td>1.000000</td>\n",
       "      <td>0.994205</td>\n",
       "    </tr>\n",
       "    <tr>\n",
       "      <th>transaction_amount_so_far_one_year_ago</th>\n",
       "      <td>0.369573</td>\n",
       "      <td>0.994205</td>\n",
       "      <td>1.000000</td>\n",
       "    </tr>\n",
       "  </tbody>\n",
       "</table>\n",
       "</div>"
      ],
      "text/plain": [
       "                                        new_house_transaction_amount  \\\n",
       "new_house_transaction_amount                                1.000000   \n",
       "transaction_amount_so_far                                   0.378150   \n",
       "transaction_amount_so_far_one_year_ago                      0.369573   \n",
       "\n",
       "                                        transaction_amount_so_far  \\\n",
       "new_house_transaction_amount                             0.378150   \n",
       "transaction_amount_so_far                                1.000000   \n",
       "transaction_amount_so_far_one_year_ago                   0.994205   \n",
       "\n",
       "                                        transaction_amount_so_far_one_year_ago  \n",
       "new_house_transaction_amount                                          0.369573  \n",
       "transaction_amount_so_far                                             0.994205  \n",
       "transaction_amount_so_far_one_year_ago                                1.000000  "
      ]
     },
     "execution_count": 29,
     "metadata": {},
     "output_type": "execute_result"
    }
   ],
   "source": [
    "df_merged[['new_house_transaction_amount',\n",
    "'transaction_amount_so_far','transaction_amount_so_far_one_year_ago']].corr()"
   ]
  },
  {
   "cell_type": "markdown",
   "id": "e7762bd8",
   "metadata": {},
   "source": []
  },
  {
   "cell_type": "markdown",
   "id": "c8645d5a",
   "metadata": {},
   "source": [
    "todo: make a run using transaction_amount_so_far_one_year_ago as one of the features."
   ]
  }
 ],
 "metadata": {
  "kernelspec": {
   "display_name": "base",
   "language": "python",
   "name": "python3"
  },
  "language_info": {
   "codemirror_mode": {
    "name": "ipython",
    "version": 3
   },
   "file_extension": ".py",
   "mimetype": "text/x-python",
   "name": "python",
   "nbconvert_exporter": "python",
   "pygments_lexer": "ipython3",
   "version": "3.11.5"
  }
 },
 "nbformat": 4,
 "nbformat_minor": 5
}
