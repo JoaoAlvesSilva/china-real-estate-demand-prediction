{
 "cells": [
  {
   "cell_type": "code",
   "execution_count": 1,
   "id": "e05ea41d",
   "metadata": {},
   "outputs": [
    {
     "name": "stdout",
     "output_type": "stream",
     "text": [
      "Added 999 missing rows. Final shape: (6432, 13)\n"
     ]
    }
   ],
   "source": [
    "import pandas as pd\n",
    "import os\n",
    "from pathlib import Path\n",
    "\n",
    "PROJECT_ROOT = Path(os.environ[\"PROJECT_ROOT\"])\n",
    "from auxiliary.static_data import *\n",
    "from auxiliary.auxiliary_funcs import *\n",
    "from auxiliary.impute_missing_values import df_new_house_transactions"
   ]
  },
  {
   "cell_type": "code",
   "execution_count": 24,
   "id": "b2403fb7",
   "metadata": {},
   "outputs": [],
   "source": [
    "df_new_house_transactions[\n",
    "    \"new_house_transaction_amount_one_year_ago\"\n",
    "] = df_new_house_transactions[\"new_house_transaction_amount\"].shift(12 * 96)\n",
    "\n",
    "df_new_house_transactions[\n",
    "    \"new_house_transaction_amount_one_month_ago\"\n",
    "] = df_new_house_transactions[\"new_house_transaction_amount\"].shift(96)\n",
    "\n",
    "\n",
    "df_new_house_transactions[\n",
    "    \"num_new_house_transactions_one_year_ago\"\n",
    "] = df_new_house_transactions[\"num_new_house_transactions\"].shift(12 * 96)\n",
    "df_new_house_transactions[\n",
    "    \"area_new_house_transactions_one_year_ago\"\n",
    "] = df_new_house_transactions[\"area_new_house_transactions\"].shift(12 * 96)\n",
    "df_new_house_transactions[\n",
    "    \"price_new_house_transactions_one_year_ago\"\n",
    "] = df_new_house_transactions[\"price_new_house_transactions\"].shift(12 * 96)\n",
    "df_new_house_transactions[\n",
    "    \"area_per_unit_new_house_transactions_one_year_ago\"\n",
    "] = df_new_house_transactions[\"area_per_unit_new_house_transactions\"].shift(12 * 96)\n",
    "df_new_house_transactions[\n",
    "    \"total_price_per_unit_new_house_transactions_one_year_ago\"\n",
    "] = df_new_house_transactions[\"total_price_per_unit_new_house_transactions\"].shift(\n",
    "    12 * 96\n",
    ")\n",
    "df_new_house_transactions[\n",
    "    \"num_new_house_available_for_sale_one_year_ago\"\n",
    "] = df_new_house_transactions[\"num_new_house_available_for_sale\"].shift(12 * 96)\n",
    "df_new_house_transactions[\n",
    "    \"area_new_house_available_for_sale_one_year_ago\"\n",
    "] = df_new_house_transactions[\"area_new_house_available_for_sale\"].shift(12 * 96)\n",
    "df_new_house_transactions[\n",
    "    \"period_new_house_sell_through_one_year_ago\"\n",
    "] = df_new_house_transactions[\"period_new_house_sell_through\"].shift(12 * 96)"
   ]
  },
  {
   "cell_type": "code",
   "execution_count": null,
   "id": "59585bd2",
   "metadata": {},
   "outputs": [],
   "source": []
  },
  {
   "cell_type": "code",
   "execution_count": 11,
   "id": "207f1da4",
   "metadata": {},
   "outputs": [
    {
     "name": "stdout",
     "output_type": "stream",
     "text": [
      "6163    10005.9\n",
      "Name: new_house_transaction_amount_one_year_ago, dtype: float64\n",
      "5011    10005.9\n",
      "Name: new_house_transaction_amount, dtype: float64\n"
     ]
    }
   ],
   "source": [
    "# Add sector_num column for sorting\n",
    "df_new_house_transactions[\"sector_num\"] = (\n",
    "    df_new_house_transactions[\"sector\"].str.extract(\"(\\d+)\").astype(int)\n",
    ")\n",
    "\n",
    "sector = 20\n",
    "yr = 2024\n",
    "m = 5\n",
    "\n",
    "print(\n",
    "    df_new_house_transactions.loc[\n",
    "        (df_new_house_transactions[\"sector_num\"] == sector)\n",
    "        & (df_new_house_transactions[\"yr\"] == yr)\n",
    "        & (df_new_house_transactions[\"m\"] == m)\n",
    "    ][\"new_house_transaction_amount_one_year_ago\"]\n",
    ")\n",
    "\n",
    "print(\n",
    "    df_new_house_transactions.loc[\n",
    "        (df_new_house_transactions[\"sector_num\"] == sector)\n",
    "        & (df_new_house_transactions[\"yr\"] == yr - 1)\n",
    "        & (df_new_house_transactions[\"m\"] == m)\n",
    "    ][\"new_house_transaction_amount\"]\n",
    ")"
   ]
  },
  {
   "cell_type": "code",
   "execution_count": 13,
   "id": "e12d59b4",
   "metadata": {},
   "outputs": [
    {
     "data": {
      "text/plain": [
       "Index(['month', 'sector', 'num_new_house_transactions',\n",
       "       'area_new_house_transactions', 'price_new_house_transactions',\n",
       "       'new_house_transaction_amount', 'area_per_unit_new_house_transactions',\n",
       "       'total_price_per_unit_new_house_transactions',\n",
       "       'num_new_house_available_for_sale', 'area_new_house_available_for_sale',\n",
       "       'period_new_house_sell_through', 'yr', 'm',\n",
       "       'new_house_transaction_amount_one_year_ago', 'sector_num'],\n",
       "      dtype='object')"
      ]
     },
     "execution_count": 13,
     "metadata": {},
     "output_type": "execute_result"
    }
   ],
   "source": [
    "df_new_house_transactions.columns"
   ]
  },
  {
   "cell_type": "code",
   "execution_count": 26,
   "id": "f7e50d9c",
   "metadata": {},
   "outputs": [
    {
     "data": {
      "text/html": [
       "<div>\n",
       "<style scoped>\n",
       "    .dataframe tbody tr th:only-of-type {\n",
       "        vertical-align: middle;\n",
       "    }\n",
       "\n",
       "    .dataframe tbody tr th {\n",
       "        vertical-align: top;\n",
       "    }\n",
       "\n",
       "    .dataframe thead th {\n",
       "        text-align: right;\n",
       "    }\n",
       "</style>\n",
       "<table border=\"1\" class=\"dataframe\">\n",
       "  <thead>\n",
       "    <tr style=\"text-align: right;\">\n",
       "      <th></th>\n",
       "      <th>new_house_transaction_amount</th>\n",
       "      <th>new_house_transaction_amount_one_month_ago</th>\n",
       "    </tr>\n",
       "  </thead>\n",
       "  <tbody>\n",
       "    <tr>\n",
       "      <th>new_house_transaction_amount</th>\n",
       "      <td>1.000000</td>\n",
       "      <td>0.701105</td>\n",
       "    </tr>\n",
       "    <tr>\n",
       "      <th>new_house_transaction_amount_one_month_ago</th>\n",
       "      <td>0.701105</td>\n",
       "      <td>1.000000</td>\n",
       "    </tr>\n",
       "    <tr>\n",
       "      <th>new_house_transaction_amount_one_year_ago</th>\n",
       "      <td>0.505079</td>\n",
       "      <td>0.456335</td>\n",
       "    </tr>\n",
       "    <tr>\n",
       "      <th>area_new_house_transactions_one_year_ago</th>\n",
       "      <td>0.490274</td>\n",
       "      <td>0.452053</td>\n",
       "    </tr>\n",
       "    <tr>\n",
       "      <th>num_new_house_transactions_one_year_ago</th>\n",
       "      <td>0.474439</td>\n",
       "      <td>0.437418</td>\n",
       "    </tr>\n",
       "    <tr>\n",
       "      <th>num_new_house_available_for_sale_one_year_ago</th>\n",
       "      <td>0.428416</td>\n",
       "      <td>0.437957</td>\n",
       "    </tr>\n",
       "    <tr>\n",
       "      <th>area_new_house_available_for_sale_one_year_ago</th>\n",
       "      <td>0.434324</td>\n",
       "      <td>0.443837</td>\n",
       "    </tr>\n",
       "    <tr>\n",
       "      <th>price_new_house_transactions_one_year_ago</th>\n",
       "      <td>0.103157</td>\n",
       "      <td>0.098494</td>\n",
       "    </tr>\n",
       "    <tr>\n",
       "      <th>area_per_unit_new_house_transactions_one_year_ago</th>\n",
       "      <td>0.066236</td>\n",
       "      <td>0.062947</td>\n",
       "    </tr>\n",
       "    <tr>\n",
       "      <th>total_price_per_unit_new_house_transactions_one_year_ago</th>\n",
       "      <td>0.026123</td>\n",
       "      <td>0.024487</td>\n",
       "    </tr>\n",
       "    <tr>\n",
       "      <th>period_new_house_sell_through_one_year_ago</th>\n",
       "      <td>-0.056445</td>\n",
       "      <td>-0.057924</td>\n",
       "    </tr>\n",
       "  </tbody>\n",
       "</table>\n",
       "</div>"
      ],
      "text/plain": [
       "                                                    new_house_transaction_amount  \\\n",
       "new_house_transaction_amount                                            1.000000   \n",
       "new_house_transaction_amount_one_month_ago                              0.701105   \n",
       "new_house_transaction_amount_one_year_ago                               0.505079   \n",
       "area_new_house_transactions_one_year_ago                                0.490274   \n",
       "num_new_house_transactions_one_year_ago                                 0.474439   \n",
       "num_new_house_available_for_sale_one_year_ago                           0.428416   \n",
       "area_new_house_available_for_sale_one_year_ago                          0.434324   \n",
       "price_new_house_transactions_one_year_ago                               0.103157   \n",
       "area_per_unit_new_house_transactions_one_year_ago                       0.066236   \n",
       "total_price_per_unit_new_house_transactions_one...                      0.026123   \n",
       "period_new_house_sell_through_one_year_ago                             -0.056445   \n",
       "\n",
       "                                                    new_house_transaction_amount_one_month_ago  \n",
       "new_house_transaction_amount                                                          0.701105  \n",
       "new_house_transaction_amount_one_month_ago                                            1.000000  \n",
       "new_house_transaction_amount_one_year_ago                                             0.456335  \n",
       "area_new_house_transactions_one_year_ago                                              0.452053  \n",
       "num_new_house_transactions_one_year_ago                                               0.437418  \n",
       "num_new_house_available_for_sale_one_year_ago                                         0.437957  \n",
       "area_new_house_available_for_sale_one_year_ago                                        0.443837  \n",
       "price_new_house_transactions_one_year_ago                                             0.098494  \n",
       "area_per_unit_new_house_transactions_one_year_ago                                     0.062947  \n",
       "total_price_per_unit_new_house_transactions_one...                                    0.024487  \n",
       "period_new_house_sell_through_one_year_ago                                           -0.057924  "
      ]
     },
     "execution_count": 26,
     "metadata": {},
     "output_type": "execute_result"
    }
   ],
   "source": [
    "df_new_house_transactions[\n",
    "    [\n",
    "        \"new_house_transaction_amount\",\n",
    "        \"new_house_transaction_amount_one_month_ago\",\n",
    "        \"new_house_transaction_amount_one_year_ago\",\n",
    "        \"area_new_house_transactions_one_year_ago\",\n",
    "        \"num_new_house_transactions_one_year_ago\",\n",
    "        \"num_new_house_available_for_sale_one_year_ago\",\n",
    "        \"area_new_house_available_for_sale_one_year_ago\",\n",
    "        \"price_new_house_transactions_one_year_ago\",\n",
    "        \"area_per_unit_new_house_transactions_one_year_ago\",\n",
    "        \"total_price_per_unit_new_house_transactions_one_year_ago\",\n",
    "        \"period_new_house_sell_through_one_year_ago\",\n",
    "    ]\n",
    "].corr()[[\"new_house_transaction_amount\", \"new_house_transaction_amount_one_month_ago\"]]"
   ]
  }
 ],
 "metadata": {
  "kernelspec": {
   "display_name": "base",
   "language": "python",
   "name": "python3"
  },
  "language_info": {
   "codemirror_mode": {
    "name": "ipython",
    "version": 3
   },
   "file_extension": ".py",
   "mimetype": "text/x-python",
   "name": "python",
   "nbconvert_exporter": "python",
   "pygments_lexer": "ipython3",
   "version": "3.11.5"
  }
 },
 "nbformat": 4,
 "nbformat_minor": 5
}
